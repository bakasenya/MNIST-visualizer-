{
 "cells": [
  {
   "cell_type": "code",
   "execution_count": 7,
   "id": "15871134-60d0-4dd0-9d15-8c060f5f031d",
   "metadata": {},
   "outputs": [],
   "source": [
    "import gradio as gr\n",
    "import numpy as np\n",
    "from tensorflow.keras.models import load_model\n",
    "from PIL import Image"
   ]
  },
  {
   "cell_type": "code",
   "execution_count": 21,
   "id": "bf64ebfc-478c-4ecd-b63e-25fab6ce57cf",
   "metadata": {},
   "outputs": [
    {
     "name": "stderr",
     "output_type": "stream",
     "text": [
      "WARNING:absl:Compiled the loaded model, but the compiled metrics have yet to be built. `model.compile_metrics` will be empty until you train or evaluate the model.\n"
     ]
    }
   ],
   "source": [
    "model = load_model(\"mnist_dense_model.h5\")"
   ]
  },
  {
   "cell_type": "code",
   "execution_count": 30,
   "id": "7e4253aa-df87-4917-8342-344fc9c69477",
   "metadata": {},
   "outputs": [
    {
     "name": "stderr",
     "output_type": "stream",
     "text": [
      "WARNING:absl:Compiled the loaded model, but the compiled metrics have yet to be built. `model.compile_metrics` will be empty until you train or evaluate the model.\n"
     ]
    },
    {
     "name": "stdout",
     "output_type": "stream",
     "text": [
      "* Running on local URL:  http://127.0.0.1:7876\n",
      "* To create a public link, set `share=True` in `launch()`.\n"
     ]
    },
    {
     "data": {
      "text/html": [
       "<div><iframe src=\"http://127.0.0.1:7876/\" width=\"100%\" height=\"500\" allow=\"autoplay; camera; microphone; clipboard-read; clipboard-write;\" frameborder=\"0\" allowfullscreen></iframe></div>"
      ],
      "text/plain": [
       "<IPython.core.display.HTML object>"
      ]
     },
     "metadata": {},
     "output_type": "display_data"
    },
    {
     "data": {
      "text/plain": []
     },
     "execution_count": 30,
     "metadata": {},
     "output_type": "execute_result"
    },
    {
     "name": "stdout",
     "output_type": "stream",
     "text": [
      "Saved processed image to processed_digit.png for debugging\n",
      "Saved processed image to processed_digit.png for debugging\n",
      "Saved processed image to processed_digit.png for debugging\n",
      "Saved processed image to processed_digit.png for debugging\n",
      "Saved processed image to processed_digit.png for debugging\n",
      "Saved processed image to processed_digit.png for debugging\n",
      "Saved processed image to processed_digit.png for debugging\n",
      "Saved processed image to processed_digit.png for debugging\n",
      "Saved processed image to processed_digit.png for debugging\n",
      "Saved processed image to processed_digit.png for debugging\n",
      "Saved processed image to processed_digit.png for debugging\n"
     ]
    }
   ],
   "source": [
    "import gradio as gr\n",
    "import numpy as np\n",
    "from tensorflow.keras.models import load_model\n",
    "from PIL import Image\n",
    "\n",
    "# Load model\n",
    "model = load_model(\"mnist_dense_model.h5\")\n",
    "\n",
    "def predict_digit(img):\n",
    "    if img is None:\n",
    "        return \"Please draw a digit.\"\n",
    "    \n",
    "    if isinstance(img, dict) and 'composite' in img:\n",
    "        img = img['composite']\n",
    "    \n",
    "    # Convert array to PIL image\n",
    "    pil_img = Image.fromarray(np.array(img).astype(\"uint8\")).convert(\"L\")\n",
    "    \n",
    "    # Resize to 28x28 (MNIST dimensions)\n",
    "    pil_img = pil_img.resize((28, 28))\n",
    "    \n",
    "    # Invert colors (MNIST has white digits on black background)\n",
    "    pil_img = Image.eval(pil_img, lambda x: 255 - x)\n",
    "    \n",
    "    # Apply thresholding to make it more binary-like (like MNIST)\n",
    "    threshold = 100  # Adjust this value if needed\n",
    "    pil_img = pil_img.point(lambda x: 255 if x > threshold else 0)\n",
    "    \n",
    "    # Center the digit\n",
    "    # First, find bounding box of non-zero pixels\n",
    "    img_array = np.array(pil_img)\n",
    "    non_zero = np.where(img_array > 0)\n",
    "    if len(non_zero[0]) > 0:  # Only process if there are non-zero pixels\n",
    "        top, bottom = np.min(non_zero[0]), np.max(non_zero[0])\n",
    "        left, right = np.min(non_zero[1]), np.max(non_zero[1])\n",
    "        \n",
    "        # Calculate center of mass and shift needed\n",
    "        center_y, center_x = (top + bottom) // 2, (left + right) // 2\n",
    "        shift_y = 14 - center_y  # 14 is center of 28x28 image\n",
    "        shift_x = 14 - center_x\n",
    "        \n",
    "        # Create a new blank image\n",
    "        centered = np.zeros_like(img_array)\n",
    "        \n",
    "        # Define bounds for the region to copy, ensuring we stay within bounds\n",
    "        src_top = max(0, -shift_y)\n",
    "        src_bottom = min(28, 28 - shift_y)\n",
    "        src_left = max(0, -shift_x)\n",
    "        src_right = min(28, 28 - shift_x)\n",
    "        \n",
    "        dst_top = max(0, shift_y)\n",
    "        dst_bottom = min(28, 28 + shift_y)\n",
    "        dst_left = max(0, shift_x)\n",
    "        dst_right = min(28, 28 + shift_x)\n",
    "        \n",
    "        # Copy the shifted region\n",
    "        try:\n",
    "            centered[dst_top:dst_bottom, dst_left:dst_right] = img_array[src_top:src_bottom, src_left:src_right]\n",
    "            img_array = centered\n",
    "        except:\n",
    "            # If centering fails, just use the original image\n",
    "            pass\n",
    "    \n",
    "    # Convert back to PIL Image for saving debug image\n",
    "    pil_img = Image.fromarray(img_array.astype(np.uint8))\n",
    "    \n",
    "    # Save processed image for debugging\n",
    "    debug_path = \"processed_digit.png\"\n",
    "    pil_img.save(debug_path)\n",
    "    print(f\"Saved processed image to {debug_path} for debugging\")\n",
    "    \n",
    "    # Normalize the array\n",
    "    img_array = img_array / 255.0\n",
    "    \n",
    "    # Reshape for the model (flattening for Dense model)\n",
    "    img_array = img_array.reshape(1, 784)\n",
    "    \n",
    "    # Predict\n",
    "    prediction = model.predict(img_array, verbose=0)\n",
    "    predicted_class = np.argmax(prediction)\n",
    "    \n",
    "    # Show confidence for top 3 predictions\n",
    "    top_3_indices = np.argsort(prediction[0])[-3:][::-1]\n",
    "    result = f\"Predicted Digit: {predicted_class}\\n\\nTop 3 predictions:\\n\"\n",
    "    \n",
    "    for i, idx in enumerate(top_3_indices):\n",
    "        result += f\"{i+1}. Digit {idx}: {prediction[0][idx]*100:.2f}%\\n\"\n",
    "    \n",
    "    return result\n",
    "\n",
    "# Interface\n",
    "iface = gr.Interface(\n",
    "    fn=predict_digit,\n",
    "    inputs=gr.Sketchpad(),\n",
    "    outputs=\"text\",\n",
    "    title=\"MNIST Digit Recognizer\",\n",
    "    description=\"Draw a digit (0-9) and the model will predict which digit it is.\",\n",
    "    examples=None,\n",
    "    theme=\"default\"\n",
    ")\n",
    "\n",
    "\n",
    "iface.launch()\n"
   ]
  },
  {
   "cell_type": "code",
   "execution_count": null,
   "id": "ce03287e-44a2-4c28-a1ce-973f893e441a",
   "metadata": {},
   "outputs": [],
   "source": []
  }
 ],
 "metadata": {
  "kernelspec": {
   "display_name": "Python 3 (ipykernel)",
   "language": "python",
   "name": "python3"
  },
  "language_info": {
   "codemirror_mode": {
    "name": "ipython",
    "version": 3
   },
   "file_extension": ".py",
   "mimetype": "text/x-python",
   "name": "python",
   "nbconvert_exporter": "python",
   "pygments_lexer": "ipython3",
   "version": "3.12.5"
  }
 },
 "nbformat": 4,
 "nbformat_minor": 5
}
